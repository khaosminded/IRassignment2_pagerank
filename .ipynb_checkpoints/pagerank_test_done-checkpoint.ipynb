{
 "cells": [
  {
   "cell_type": "markdown",
   "metadata": {},
   "source": [
    "### ijk into matrix  and * d[1,1,1,1,1,1...]"
   ]
  },
  {
   "cell_type": "code",
   "execution_count": 30,
   "metadata": {},
   "outputs": [
    {
     "name": "stdout",
     "output_type": "stream",
     "text": [
      "[ 0.  4.  3.  3.  3.  1.  0.  0.  0.  0.]\n"
     ]
    }
   ],
   "source": [
    "import numpy\n",
    "maxn=10\n",
    "M=numpy.zeros((maxn,maxn))\n",
    "with open('/Users/hanxinlei/tmp/adj_ijk.txt','r') as f:\n",
    "    for line in f:\n",
    "        if None==line: \n",
    "            continue\n",
    "        x=int(line.strip().split()[0])\n",
    "        y=int(line.strip().split()[1])        \n",
    "        n=int(line.strip().split()[2])\n",
    "        M[x][y]=n\n",
    "d=numpy.ones((maxn,))\n",
    "d=numpy.dot(d,M)\n",
    "print(d)"
   ]
  },
  {
   "cell_type": "markdown",
   "metadata": {},
   "source": [
    "### matrices into ijk"
   ]
  },
  {
   "cell_type": "code",
   "execution_count": 64,
   "metadata": {},
   "outputs": [],
   "source": [
    "with open('/Users/hanxinlei/tmp/adj.txt','r') as f:\n",
    "    with open('/Users/hanxinlei/tmp/adj_ijk.txt','w') as f1:\n",
    "        i=0\n",
    "        for row in f:\n",
    "            x=row.strip().split()\n",
    "            j=0\n",
    "            for col in x:\n",
    "                if(x[j]=='1'):\n",
    "                    f1.write(str(i)+' '+str(j)+' '+x[j]+'\\n')\n",
    "                j+=1\n",
    "            i+=1"
   ]
  },
  {
   "cell_type": "markdown",
   "metadata": {},
   "source": [
    "\n",
    "### rj"
   ]
  },
  {
   "cell_type": "code",
   "execution_count": 34,
   "metadata": {},
   "outputs": [
    {
     "name": "stdout",
     "output_type": "stream",
     "text": [
      "!!!!\n",
      "!!!!\n",
      "!!!!\n",
      "!!!!\n",
      "!!!!\n",
      "[ 0.  4.  3.  3.  3.  1.  0.  0.  0.  0.]\n"
     ]
    }
   ],
   "source": [
    "import numpy\n",
    "maxn=10\n",
    "M=numpy.zeros((maxn,maxn))\n",
    "with open('/Users/hanxinlei/tmp/adj_ijk.txt','r') as f:\n",
    "    for line in f:\n",
    "        if None==line: \n",
    "            continue\n",
    "        x=int(line.strip().split()[0])\n",
    "        y=int(line.strip().split()[1])        \n",
    "        n=int(line.strip().split()[2])\n",
    "        M[x][y]=n\n",
    "d=numpy.ones((maxn,))\n",
    "d=numpy.dot(d,M)\n",
    "for i in d:\n",
    "    if(i!=0):\n",
    "        print('!!!!')\n",
    "    \n",
    "print(d)"
   ]
  },
  {
   "cell_type": "markdown",
   "metadata": {},
   "source": [
    "### 由一维或二维数据创建矩阵"
   ]
  },
  {
   "cell_type": "code",
   "execution_count": 35,
   "metadata": {},
   "outputs": [],
   "source": [
    "from numpy import *;\n",
    "a1=array([1,2,3]);\n",
    "a1=mat(a1);"
   ]
  },
  {
   "cell_type": "markdown",
   "metadata": {},
   "source": [
    "### matrix M"
   ]
  },
  {
   "cell_type": "code",
   "execution_count": 40,
   "metadata": {},
   "outputs": [
    {
     "name": "stdout",
     "output_type": "stream",
     "text": [
      "[[ 0.          0.25        0.          0.          0.          0.          0.\n",
      "   0.          0.          0.        ]\n",
      " [ 0.          0.          0.33333333  0.33333333  0.33333333  0.          0.\n",
      "   0.          0.          0.        ]\n",
      " [ 0.          0.25        0.          0.33333333  0.33333333  0.          0.\n",
      "   0.          0.          0.        ]\n",
      " [ 0.          0.25        0.33333333  0.          0.33333333  0.          0.\n",
      "   0.          0.          0.        ]\n",
      " [ 0.          0.25        0.33333333  0.33333333  0.          1.          0.\n",
      "   0.          0.          0.        ]\n",
      " [ 0.          0.          0.          0.          0.          0.          0.\n",
      "   0.          0.          0.        ]\n",
      " [ 0.          0.          0.          0.          0.          0.          0.\n",
      "   0.          0.          0.        ]\n",
      " [ 0.          0.          0.          0.          0.          0.          0.\n",
      "   0.          0.          0.        ]\n",
      " [ 0.          0.          0.          0.          0.          0.          0.\n",
      "   0.          0.          0.        ]\n",
      " [ 0.          0.          0.          0.          0.          0.          0.\n",
      "   0.          0.          0.        ]]\n"
     ]
    }
   ],
   "source": [
    "import numpy\n",
    "maxn=10\n",
    "M=numpy.zeros((maxn,maxn))\n",
    "with open('/Users/hanxinlei/tmp/adj_ijk.txt','r') as f:\n",
    "    for line in f:\n",
    "        if None==line: \n",
    "            continue\n",
    "        x=int(line.strip().split()[0])\n",
    "        y=int(line.strip().split()[1])        \n",
    "        n=int(line.strip().split()[2])\n",
    "        M[x][y]=n\n",
    "d=numpy.ones((maxn,))\n",
    "d=numpy.dot(d,M)\n",
    "\n",
    "i=0\n",
    "for row in M:\n",
    "    j=0\n",
    "    for col in M[i]:\n",
    "        if(M[i][j]!=0):\n",
    "            M[i][j]/=d[j]\n",
    "        j+=1\n",
    "    i+=1\n",
    "    \n",
    "print(M)"
   ]
  },
  {
   "cell_type": "markdown",
   "metadata": {},
   "source": [
    "### lowb version for small set"
   ]
  },
  {
   "cell_type": "code",
   "execution_count": 67,
   "metadata": {},
   "outputs": [
    {
     "data": {
      "text/plain": [
       "array([[ 0.06766841],\n",
       "       [ 0.21545123],\n",
       "       [ 0.20224417],\n",
       "       [ 0.20224417],\n",
       "       [ 0.21216935],\n",
       "       [ 0.015     ],\n",
       "       [ 0.015     ],\n",
       "       [ 0.015     ],\n",
       "       [ 0.015     ],\n",
       "       [ 0.015     ]])"
      ]
     },
     "execution_count": 67,
     "metadata": {},
     "output_type": "execute_result"
    }
   ],
   "source": [
    "import numpy\n",
    "def check_stability(a,b):\n",
    "    c=a-b\n",
    "    for v in c:\n",
    "        if v>0.1:\n",
    "            return False\n",
    "    \n",
    "    return True\n",
    "\n",
    "def pagerank(r,M):\n",
    "    result_last=numpy.dot(M,r)\n",
    "    beta=0.85\n",
    "    for i in range(maxn):\n",
    "        r=beta*numpy.dot(M,r)+(1-beta)*1/maxn\n",
    "        check_stability(r,result_last)\n",
    "        result_last=r\n",
    "    return r\n",
    "\n",
    "maxn=10\n",
    "M=numpy.zeros((maxn,maxn))\n",
    "with open('/Users/hanxinlei/tmp/adj_ijk.txt','r') as f:\n",
    "    for line in f:\n",
    "        if None==line: \n",
    "            continue\n",
    "        x=int(line.strip().split()[0])\n",
    "        y=int(line.strip().split()[1])        \n",
    "        n=int(line.strip().split()[2])\n",
    "        M[x][y]=n\n",
    "d=numpy.ones((maxn,))\n",
    "d=numpy.dot(d,M)\n",
    "\n",
    "i=0\n",
    "for row in M:\n",
    "    j=0\n",
    "    for col in M[i]:\n",
    "        if(M[i][j]!=0):\n",
    "            M[i][j]=M[i][j]/d[j]\n",
    "        j+=1\n",
    "    i+=1\n",
    "    \n",
    "r=numpy.ones((maxn,1))\n",
    "\n",
    "\n",
    "pagerank(r,M)\n",
    "\n"
   ]
  },
  {
   "cell_type": "code",
   "execution_count": 10,
   "metadata": {},
   "outputs": [
    {
     "name": "stdout",
     "output_type": "stream",
     "text": [
      "[ 0.1  0.1  0.1  0.1  0.1  0.1  0.1  0.1  0.1  0.1]\n"
     ]
    }
   ],
   "source": [
    "import numpy\n",
    "a=numpy.ones((10,))\n",
    "a=a/10\n",
    "print(a)"
   ]
  },
  {
   "cell_type": "code",
   "execution_count": 26,
   "metadata": {},
   "outputs": [
    {
     "name": "stdout",
     "output_type": "stream",
     "text": [
      "[[ 1.  2.  3.]\n",
      " [ 4.  5.  6.]]\n"
     ]
    }
   ],
   "source": [
    "import numpy\n",
    "a=numpy.array([[1,2,3],[4,5,6]])\n",
    "b=numpy.array([1,2,3])\n",
    "d=numpy.array([[1,2,3],[4,5,6]])\n",
    "c=numpy.ones((1,3))\n",
    "c=numpy.true_divide(a,c)\n",
    "print(c)"
   ]
  },
  {
   "cell_type": "markdown",
   "metadata": {},
   "source": [
    "### square spares M"
   ]
  },
  {
   "cell_type": "code",
   "execution_count": 88,
   "metadata": {},
   "outputs": [
    {
     "name": "stdout",
     "output_type": "stream",
     "text": [
      "[[ 0.  1.  1. ...,  0.  0.  0.]]\n"
     ]
    }
   ],
   "source": [
    "import numpy \n",
    "from scipy.sparse import *\n",
    "from scipy.sparse.linalg import inv\n",
    "M=numpy.loadtxt('/Users/hanxinlei/Downloads/AdjacencyMatrix.txt',dtype=int)\n",
    "#M=numpy.loadtxt('/Users/hanxinlei/tmp/adj_ijk.txt',dtype=int)\n",
    "row=M[:,0]\n",
    "col=M[:,1]\n",
    "data=M[:,2]\n",
    "#convert to SQUARE sparse matrix\n",
    "m,n=row.max(),col.max()\n",
    "row=numpy.r_[row,max(m,n)]\n",
    "col=numpy.r_[col,max(m,n)]\n",
    "data=numpy.r_[data,0]\n",
    "M=coo_matrix((data,(row,col)),dtype=numpy.float64)\n",
    "M=M.tocsc()\n",
    "\n",
    "#init 1/Si \n",
    "s=numpy.array(M.sum(axis=0))\n",
    "for i in range(len(s[0])):\n",
    "    if s[0][i]!=0:\n",
    "        for j in range(M.indptr[i],M.indptr[i+1]):\n",
    "            M.data[j]/=s[0][i]\n",
    "np.set_printoptions(threshold=5)\n",
    "print(M.sum(axis=0))\n"
   ]
  },
  {
   "cell_type": "markdown",
   "metadata": {},
   "source": [
    "## generic PageRank using spares matrix CSC & COO"
   ]
  },
  {
   "cell_type": "code",
   "execution_count": null,
   "metadata": {},
   "outputs": [],
   "source": [
    "import numpy\n",
    "from scipy.sparse import *\n",
    "#readfile and convert to spares matrix\n",
    "def get_CSC_M(fname)\n",
    "    import numpy \n",
    "    M=numpy.loadtxt(fname,dtype=int)\n",
    "    row,col,data=M[:,0],M[:,1],M[:,2]\n",
    "    M=coo_matrix((data,(row,col)))\n",
    "    M=M.tocsc()\n",
    "    return M\n",
    "#whether exit iteration\n",
    "def check_stability(current,last,threshold):\n",
    "    diff=current-last\n",
    "    for val in diff:\n",
    "        if abs(val)>threshold:\n",
    "            return False\n",
    "    return True\n",
    "\n",
    "#read M which is already initialized \n",
    "def pagerank(M,maxn,beta=0.85,threshold=0.001):\n",
    "    r_last=r=numpy.ones((maxn,1))/maxn\n",
    "    while True:\n",
    "        r=beta*numpy.dot(M,r)+(1-beta)*1/maxn\n",
    "        if(check_stability(r,r_last,threshold)):\n",
    "            break\n",
    "        r_last=r\n",
    "    return r\n",
    "\n",
    "#main()\n",
    "##TODO"
   ]
  }
 ],
 "metadata": {
  "kernelspec": {
   "display_name": "Python 3",
   "language": "python",
   "name": "python3"
  },
  "language_info": {
   "codemirror_mode": {
    "name": "ipython",
    "version": 3
   },
   "file_extension": ".py",
   "mimetype": "text/x-python",
   "name": "python",
   "nbconvert_exporter": "python",
   "pygments_lexer": "ipython3",
   "version": "3.6.3"
  }
 },
 "nbformat": 4,
 "nbformat_minor": 2
}
