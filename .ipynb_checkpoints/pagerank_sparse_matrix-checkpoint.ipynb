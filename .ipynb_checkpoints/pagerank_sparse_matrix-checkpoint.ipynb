{
 "cells": [
  {
   "cell_type": "markdown",
   "metadata": {},
   "source": [
    "### printing precision"
   ]
  },
  {
   "cell_type": "code",
   "execution_count": 3,
   "metadata": {},
   "outputs": [
    {
     "name": "stdout",
     "output_type": "stream",
     "text": [
      "[0 1 2 ..., 7 8 9]\n",
      "[0 1 2 3 4 5 6 7 8 9]\n"
     ]
    }
   ],
   "source": [
    "import numpy as np\n",
    "np.set_printoptions(threshold=5)\n",
    "print(np.arange(10))\n",
    "np.set_printoptions(threshold=np.nan)\n",
    "print(np.arange(10))"
   ]
  },
  {
   "cell_type": "markdown",
   "metadata": {},
   "source": [
    "### A.dot(v) =  A*v if possible, else v*A(low priority)\n",
    "右乘优先"
   ]
  },
  {
   "cell_type": "code",
   "execution_count": 14,
   "metadata": {},
   "outputs": [
    {
     "data": {
      "text/plain": [
       "array([[1, 1, 1],\n",
       "       [0, 0, 0],\n",
       "       [4, 4, 4]], dtype=int64)"
      ]
     },
     "execution_count": 14,
     "metadata": {},
     "output_type": "execute_result"
    }
   ],
   "source": [
    "import numpy as np\n",
    "from scipy.sparse import csr_matrix\n",
    "A = csr_matrix([[1, 2, 0], [0, 0, 3], [4, 0, 5]])\n",
    "v = np.array([[1, 1, 1], [0, 0, 0], [0, 0, 0]])\n",
    "A.dot(v)"
   ]
  },
  {
   "cell_type": "code",
   "execution_count": 18,
   "metadata": {},
   "outputs": [
    {
     "data": {
      "text/plain": [
       "array([3, 3, 9], dtype=int64)"
      ]
     },
     "execution_count": 18,
     "metadata": {},
     "output_type": "execute_result"
    }
   ],
   "source": [
    "import numpy as np\n",
    "from scipy.sparse import csr_matrix\n",
    "A = csr_matrix([[1, 2, 0], [0, 0, 3], [4, 0, 5]])\n",
    "v = np.array([1, 1, 1])\n",
    "A.dot(v)"
   ]
  },
  {
   "cell_type": "code",
   "execution_count": 19,
   "metadata": {},
   "outputs": [
    {
     "data": {
      "text/plain": [
       "array([[3],\n",
       "       [3],\n",
       "       [9]], dtype=int64)"
      ]
     },
     "execution_count": 19,
     "metadata": {},
     "output_type": "execute_result"
    }
   ],
   "source": [
    "import numpy as np\n",
    "from scipy.sparse import csr_matrix\n",
    "A = csr_matrix([[1, 2, 0], [0, 0, 3], [4, 0, 5]])\n",
    "v = np.array([[1], [1], [1]])\n",
    "A.dot(v)"
   ]
  },
  {
   "cell_type": "markdown",
   "metadata": {},
   "source": [
    "### square spares M"
   ]
  },
  {
   "cell_type": "code",
   "execution_count": 15,
   "metadata": {
    "scrolled": true
   },
   "outputs": [
    {
     "name": "stdout",
     "output_type": "stream",
     "text": [
      "(81434, 81434)\n"
     ]
    }
   ],
   "source": [
    "import numpy \n",
    "from scipy.sparse import *\n",
    "from scipy.sparse.linalg import inv\n",
    "M=numpy.loadtxt('/Users/hanxinlei/Downloads/AdjacencyMatrix.txt',dtype=int)\n",
    "#M=numpy.loadtxt('/Users/hanxinlei/tmp/adj_ijk.txt',dtype=int)\n",
    "row=M[:,0]\n",
    "col=M[:,1]\n",
    "data=M[:,2]\n",
    "#convert to SQUARE sparse matrix\n",
    "m,n=row.max(),col.max()\n",
    "row=numpy.r_[row,max(m,n)]\n",
    "col=numpy.r_[col,max(m,n)]\n",
    "data=numpy.r_[data,0]\n",
    "M=coo_matrix((data,(row,col)),dtype=numpy.float64)\n",
    "M=M.tocsc()\n",
    "\n",
    "#init 1/Si \n",
    "s=numpy.array(M.sum(axis=0))\n",
    "for i in range(len(s[0])):\n",
    "    if s[0][i]!=0:\n",
    "        for j in range(M.indptr[i],M.indptr[i+1]):\n",
    "            M.data[j]/=s[0][i]\n",
    "numpy.set_printoptions(threshold=numpy.nan)\n",
    "print(M.shape)\n",
    "\n"
   ]
  },
  {
   "cell_type": "markdown",
   "metadata": {},
   "source": [
    "# generic PageRank using spares matrix CSC & COO"
   ]
  },
  {
   "cell_type": "code",
   "execution_count": 83,
   "metadata": {},
   "outputs": [],
   "source": [
    "import numpy\n",
    "from scipy.sparse import *\n",
    "\n",
    "#readfile and convert to spares matrix\n",
    "def get_Matrix_CSC(fname):\n",
    "    M=numpy.loadtxt(fname,dtype=int)\n",
    "    row=M[:,0]\n",
    "    col=M[:,1]\n",
    "    data=M[:,2]\n",
    "    #convert to SQUARE sparse matrix\n",
    "    m,n=row.max(),col.max()\n",
    "    row=numpy.r_[row,max(m,n)]\n",
    "    col=numpy.r_[col,max(m,n)]\n",
    "    data=numpy.r_[data,0]\n",
    "    M=coo_matrix((data,(row,col)),dtype=numpy.float64)\n",
    "    M=M.tocsc()\n",
    "\n",
    "    #init 1/Si \n",
    "    s=numpy.array(M.sum(axis=0))\n",
    "    for i in range(len(s[0])):\n",
    "        if s[0][i]!=0:\n",
    "            for j in range(M.indptr[i],M.indptr[i+1]):\n",
    "                M.data[j]/=s[0][i]\n",
    "    return M\n",
    "\n",
    "#whether exit iteration\n",
    "def check_stability(current,last,threshold):\n",
    "    diff=current-last\n",
    "    for val in diff:\n",
    "        if abs(val)>threshold:\n",
    "            return False\n",
    "    return True\n",
    "\n",
    "#read M which is already initialized\n",
    "\n",
    "def pagerank(M,maxn,beta=0.85,threshold=0.001):\n",
    "    count=0\n",
    "    r_last=r=numpy.ones((maxn,1))/maxn\n",
    "    while True:\n",
    "        count+=1\n",
    "        #runtime focus here\n",
    "        r=beta*M.dot(r)+(1-beta)*1/maxn\n",
    "        if(check_stability(r,r_last,threshold)):\n",
    "            break\n",
    "        r_last=r\n",
    "    return (r,count)\n",
    "    \n",
    "#\n",
    "#main()\n",
    "##input your file here E&D\n",
    "fname='/Users/hanxinlei/Downloads/AdjacencyMatrix.txt'\n",
    "thd=1.0e-04\n",
    "#fname='/Users/hanxinlei/tmp/adj_ijk.txt'\n",
    "M=get_Matrix_CSC(fname)\n",
    "result=pagerank(M,M.shape[0],threshold=thd)\n",
    "R=result[0]\n",
    "iterations=result[1]\n",
    "rj=numpy.ones((M.shape[0],1))/M.shape[0]\n",
    "\n",
    "#output\n",
    "M=M.tocoo()\n",
    "with open('M.txt','w') as f:\n",
    "    for i in range(len(M.row)):\n",
    "        string='%d %d %e\\n' % (M.row[i],M.col[i],M.data[i])\n",
    "        if(M.data[i]!=0):\n",
    "            f.write(string)\n",
    "with open('rj.txt','w') as f:\n",
    "    for i in rj:\n",
    "        string='%e\\n'%i\n",
    "        f.write(string)\n",
    "with open('R.txt','w') as f:\n",
    "    for i in R:\n",
    "        string='%e\\n'%i\n",
    "        f.write(string)\n",
    "with open('count.txt','w') as f:\n",
    "    f.write('iterations=%d, threshold=%f'%(iterations,thd))\n"
   ]
  },
  {
   "cell_type": "code",
   "execution_count": null,
   "metadata": {},
   "outputs": [],
   "source": []
  }
 ],
 "metadata": {
  "kernelspec": {
   "display_name": "Python 3",
   "language": "python",
   "name": "python3"
  },
  "language_info": {
   "codemirror_mode": {
    "name": "ipython",
    "version": 3
   },
   "file_extension": ".py",
   "mimetype": "text/x-python",
   "name": "python",
   "nbconvert_exporter": "python",
   "pygments_lexer": "ipython3",
   "version": "3.6.3"
  }
 },
 "nbformat": 4,
 "nbformat_minor": 2
}
